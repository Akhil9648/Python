{
 "cells": [
  {
   "cell_type": "code",
   "execution_count": 1,
   "id": "886815f6",
   "metadata": {},
   "outputs": [],
   "source": [
    "import numpy as np\n",
    "import pandas as pd"
   ]
  },
  {
   "cell_type": "markdown",
   "id": "2612a9d7",
   "metadata": {},
   "source": [
    "Create a numpy array"
   ]
  },
  {
   "cell_type": "code",
   "execution_count": 2,
   "id": "60914114",
   "metadata": {},
   "outputs": [
    {
     "name": "stdout",
     "output_type": "stream",
     "text": [
      "[[20 30 40 50 60]\n",
      " [ 1  2  6  4  5]]\n"
     ]
    }
   ],
   "source": [
    "arr=np.array([[20,30,40,50,60],[1,2,6,4,5]])\n",
    "print(arr)"
   ]
  },
  {
   "cell_type": "markdown",
   "id": "4720cfb7",
   "metadata": {},
   "source": [
    "Create Two 1-D arrays each of 5 elements apply vector operations like addition and substraction"
   ]
  },
  {
   "cell_type": "code",
   "execution_count": 3,
   "id": "56bc7847",
   "metadata": {},
   "outputs": [
    {
     "name": "stdout",
     "output_type": "stream",
     "text": [
      "[ 5  7  9 11 13]\n",
      "[3 3 3 3 3]\n",
      "[ 4 10 18 28 40]\n",
      "[4.   2.5  2.   1.75 1.6 ]\n",
      "100\n"
     ]
    }
   ],
   "source": [
    "a=np.array([1,2,3,4,5])\n",
    "b=np.array([4,5,6,7,8])\n",
    "print(a+b)\n",
    "print(b-a)\n",
    "print(a*b)\n",
    "print(b/a)\n",
    "print(np.dot(a,b))"
   ]
  },
  {
   "cell_type": "code",
   "execution_count": 4,
   "id": "ca2fc253",
   "metadata": {},
   "outputs": [
    {
     "data": {
      "text/plain": [
       "array([0, 0, 0, 0, 0])"
      ]
     },
     "execution_count": 4,
     "metadata": {},
     "output_type": "execute_result"
    }
   ],
   "source": [
    "np.zeros(dtype=int,shape=5)"
   ]
  },
  {
   "cell_type": "code",
   "execution_count": 5,
   "id": "19da2453",
   "metadata": {},
   "outputs": [
    {
     "data": {
      "text/plain": [
       "array([[1, 1, 1],\n",
       "       [1, 1, 1]])"
      ]
     },
     "execution_count": 5,
     "metadata": {},
     "output_type": "execute_result"
    }
   ],
   "source": [
    "np.ones((2,3),dtype=int)"
   ]
  },
  {
   "cell_type": "markdown",
   "id": "a2204a61",
   "metadata": {},
   "source": [
    "Create a 3-D array of shape (4,3,2) with all zero elements"
   ]
  },
  {
   "cell_type": "code",
   "execution_count": 6,
   "id": "9ae9cf37",
   "metadata": {},
   "outputs": [
    {
     "data": {
      "text/plain": [
       "array([[[0, 0],\n",
       "        [0, 0],\n",
       "        [0, 0]],\n",
       "\n",
       "       [[0, 0],\n",
       "        [0, 0],\n",
       "        [0, 0]],\n",
       "\n",
       "       [[0, 0],\n",
       "        [0, 0],\n",
       "        [0, 0]],\n",
       "\n",
       "       [[0, 0],\n",
       "        [0, 0],\n",
       "        [0, 0]]])"
      ]
     },
     "execution_count": 6,
     "metadata": {},
     "output_type": "execute_result"
    }
   ],
   "source": [
    "np.zeros((4,3,2),dtype=int)"
   ]
  },
  {
   "cell_type": "code",
   "execution_count": 7,
   "id": "9f4c7648",
   "metadata": {},
   "outputs": [
    {
     "data": {
      "text/plain": [
       "array([[1, 0, 0, 0, 0],\n",
       "       [0, 1, 0, 0, 0],\n",
       "       [0, 0, 1, 0, 0],\n",
       "       [0, 0, 0, 1, 0],\n",
       "       [0, 0, 0, 0, 1]])"
      ]
     },
     "execution_count": 7,
     "metadata": {},
     "output_type": "execute_result"
    }
   ],
   "source": [
    "np.eye(5,dtype=int)"
   ]
  },
  {
   "cell_type": "markdown",
   "id": "559d1904",
   "metadata": {},
   "source": [
    "Apply Logical Not Operation on an input array"
   ]
  },
  {
   "cell_type": "code",
   "execution_count": null,
   "id": "9174512c",
   "metadata": {},
   "outputs": [],
   "source": []
  },
  {
   "cell_type": "markdown",
   "id": "e07f88ba",
   "metadata": {},
   "source": [
    "Create an array 5,7,9 and create a shallow and deep copy of that array"
   ]
  },
  {
   "cell_type": "code",
   "execution_count": 9,
   "id": "4393edec",
   "metadata": {},
   "outputs": [
    {
     "name": "stdout",
     "output_type": "stream",
     "text": [
      "[1 7 9]\n",
      "[1 7 9]\n"
     ]
    }
   ],
   "source": [
    "a=np.array([5,7,9])\n",
    "b=a.view()\n",
    "b[0]=1\n",
    "print(a)\n",
    "print(b)"
   ]
  },
  {
   "cell_type": "code",
   "execution_count": 11,
   "id": "c87f01ec",
   "metadata": {},
   "outputs": [
    {
     "name": "stdout",
     "output_type": "stream",
     "text": [
      "[1 7 9]\n",
      "[5 7 9]\n"
     ]
    }
   ],
   "source": [
    "c=a.copy()\n",
    "c[0]=5\n",
    "print(a)\n",
    "print(c)"
   ]
  },
  {
   "cell_type": "code",
   "execution_count": null,
   "id": "1baafd6c",
   "metadata": {},
   "outputs": [],
   "source": []
  }
 ],
 "metadata": {
  "kernelspec": {
   "display_name": "Python 3",
   "language": "python",
   "name": "python3"
  },
  "language_info": {
   "codemirror_mode": {
    "name": "ipython",
    "version": 3
   },
   "file_extension": ".py",
   "mimetype": "text/x-python",
   "name": "python",
   "nbconvert_exporter": "python",
   "pygments_lexer": "ipython3",
   "version": "3.12.1"
  }
 },
 "nbformat": 4,
 "nbformat_minor": 5
}
