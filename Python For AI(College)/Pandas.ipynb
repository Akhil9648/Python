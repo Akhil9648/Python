{
 "cells": [
  {
   "cell_type": "markdown",
   "id": "d0dbb53e",
   "metadata": {},
   "source": [
    "Create a series with following elements using a list,elements are simple (10,20,30,40)"
   ]
  },
  {
   "cell_type": "code",
   "execution_count": 2,
   "id": "783356ff",
   "metadata": {},
   "outputs": [],
   "source": [
    "import pandas as pd"
   ]
  },
  {
   "cell_type": "code",
   "execution_count": 3,
   "id": "c924dd46",
   "metadata": {},
   "outputs": [],
   "source": [
    "s1=pd.Series([10,20,30,40])"
   ]
  },
  {
   "cell_type": "code",
   "execution_count": 4,
   "id": "cedd2512",
   "metadata": {},
   "outputs": [
    {
     "data": {
      "text/plain": [
       "0    10\n",
       "1    20\n",
       "2    30\n",
       "3    40\n",
       "dtype: int64"
      ]
     },
     "execution_count": 4,
     "metadata": {},
     "output_type": "execute_result"
    }
   ],
   "source": [
    "s1"
   ]
  },
  {
   "cell_type": "code",
   "execution_count": 5,
   "id": "ae4293ef",
   "metadata": {},
   "outputs": [
    {
     "data": {
      "text/plain": [
       "a    10\n",
       "b    20\n",
       "c    30\n",
       "d    40\n",
       "dtype: int64"
      ]
     },
     "execution_count": 5,
     "metadata": {},
     "output_type": "execute_result"
    }
   ],
   "source": [
    "s2=pd.Series([10,20,30,40],index=['a','b','c','d'])\n",
    "s2"
   ]
  },
  {
   "cell_type": "code",
   "execution_count": 7,
   "id": "9cc6e914",
   "metadata": {},
   "outputs": [],
   "source": [
    "s3=pd.Series({'a':10,'b':20,'c':30,'d':40})"
   ]
  },
  {
   "cell_type": "markdown",
   "id": "6daa1be0",
   "metadata": {},
   "source": [
    "Scalar Operations in Series"
   ]
  },
  {
   "cell_type": "markdown",
   "id": "ce18054e",
   "metadata": {},
   "source": [
    "Vector Opertions on Series"
   ]
  },
  {
   "cell_type": "code",
   "execution_count": 8,
   "id": "87527de6",
   "metadata": {},
   "outputs": [],
   "source": [
    "s4=pd.Series(5,index=['a','b','c','d'])"
   ]
  },
  {
   "cell_type": "code",
   "execution_count": 9,
   "id": "af46d708",
   "metadata": {},
   "outputs": [],
   "source": [
    "s6=s3+s4"
   ]
  },
  {
   "cell_type": "code",
   "execution_count": 10,
   "id": "84435fd3",
   "metadata": {},
   "outputs": [
    {
     "data": {
      "text/plain": [
       "a    15\n",
       "b    25\n",
       "c    35\n",
       "d    45\n",
       "dtype: int64"
      ]
     },
     "execution_count": 10,
     "metadata": {},
     "output_type": "execute_result"
    }
   ],
   "source": [
    "s6"
   ]
  },
  {
   "cell_type": "code",
   "execution_count": null,
   "id": "4c9b1622",
   "metadata": {},
   "outputs": [],
   "source": []
  }
 ],
 "metadata": {
  "kernelspec": {
   "display_name": "Python 3",
   "language": "python",
   "name": "python3"
  },
  "language_info": {
   "codemirror_mode": {
    "name": "ipython",
    "version": 3
   },
   "file_extension": ".py",
   "mimetype": "text/x-python",
   "name": "python",
   "nbconvert_exporter": "python",
   "pygments_lexer": "ipython3",
   "version": "3.12.1"
  }
 },
 "nbformat": 4,
 "nbformat_minor": 5
}
