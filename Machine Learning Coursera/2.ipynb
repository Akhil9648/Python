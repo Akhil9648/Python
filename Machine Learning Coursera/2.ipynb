{
 "cells": [
  {
   "cell_type": "code",
   "execution_count": 15,
   "id": "34c2362c",
   "metadata": {},
   "outputs": [],
   "source": [
    "import numpy as np\n",
    "import matplotlib.pyplot as plt"
   ]
  },
  {
   "cell_type": "code",
   "execution_count": 8,
   "id": "efc9ecad",
   "metadata": {},
   "outputs": [],
   "source": [
    "x_train=np.array([1.0,2.0])\n",
    "y_train=np.array([300.0,500.0])"
   ]
  },
  {
   "cell_type": "code",
   "execution_count": 9,
   "id": "18541153",
   "metadata": {},
   "outputs": [],
   "source": [
    "def compure_cost(x,y,w,b):\n",
    "    m=x.shape[0]\n",
    "    cost_sum=0\n",
    "    for i in range(m):\n",
    "        f_wb=w*x[i]+b\n",
    "        cost=(f_wb-y[i])**2\n",
    "        cost_sum+=cost\n",
    "        total_cost=(1/(2*m))*cost_sum\n",
    "    return total_cost"
   ]
  },
  {
   "cell_type": "code",
   "execution_count": 17,
   "id": "bac9b846",
   "metadata": {},
   "outputs": [],
   "source": [
    "x_train=np.array([1.0,1.7,2.0,2.5,3.0,3.2])\n",
    "y_train=np.array([250,300,480,430,630,790])"
   ]
  },
  {
   "cell_type": "code",
   "execution_count": null,
   "id": "1fd15c35",
   "metadata": {},
   "outputs": [],
   "source": []
  }
 ],
 "metadata": {
  "kernelspec": {
   "display_name": "Python 3",
   "language": "python",
   "name": "python3"
  },
  "language_info": {
   "codemirror_mode": {
    "name": "ipython",
    "version": 3
   },
   "file_extension": ".py",
   "mimetype": "text/x-python",
   "name": "python",
   "nbconvert_exporter": "python",
   "pygments_lexer": "ipython3",
   "version": "3.12.1"
  }
 },
 "nbformat": 4,
 "nbformat_minor": 5
}
